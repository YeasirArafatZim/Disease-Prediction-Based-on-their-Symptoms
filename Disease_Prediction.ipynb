{
  "nbformat": 4,
  "nbformat_minor": 0,
  "metadata": {
    "colab": {
      "name": "Disease Prediction.ipynb",
      "provenance": [],
      "collapsed_sections": []
    },
    "kernelspec": {
      "name": "python3",
      "display_name": "Python 3"
    },
    "accelerator": "GPU"
  },
  "cells": [
    {
      "cell_type": "markdown",
      "metadata": {
        "id": "RrqRYWfyBH1A"
      },
      "source": [
        "# Disease Predition based on Symptoms using Neural Network"
      ]
    },
    {
      "cell_type": "code",
      "metadata": {
        "id": "DxbiSycDaVra"
      },
      "source": [
        "from pathlib import Path\n",
        "import pandas as pd\n",
        "from pandas import DataFrame\n",
        "import torch\n",
        "import numpy as np\n",
        "import torch.nn as nn\n",
        "import torch.optim as optim\n",
        "from google_drive_downloader import GoogleDriveDownloader as gdd\n",
        "from torch.utils.data import DataLoader, Dataset\n",
        "from sklearn.feature_extraction.text import CountVectorizer\n",
        "from sklearn import preprocessing\n",
        "import os\n"
      ],
      "execution_count": 1,
      "outputs": []
    },
    {
      "cell_type": "code",
      "metadata": {
        "id": "YjcmgT59vmrL",
        "colab": {
          "base_uri": "https://localhost:8080/"
        },
        "outputId": "eaeedc29-93ac-42eb-9b81-796c83fef915"
      },
      "source": [
        "device = torch.device('cuda' if torch.cuda.is_available() else 'cpu')\n",
        "device"
      ],
      "execution_count": 2,
      "outputs": [
        {
          "output_type": "execute_result",
          "data": {
            "text/plain": [
              "device(type='cuda')"
            ]
          },
          "metadata": {
            "tags": []
          },
          "execution_count": 2
        }
      ]
    },
    {
      "cell_type": "code",
      "metadata": {
        "id": "PmcpVQ_7adaz",
        "colab": {
          "base_uri": "https://localhost:8080/"
        },
        "outputId": "8e37559a-c147-4957-928c-90f0c2bbf956"
      },
      "source": [
        "from google.colab import drive\n",
        "drive.mount('/content/gdrive')\n",
        "\n",
        "DATA_PATH = '/content/gdrive/My Drive/Data/Disease_Dataset/dataset.csv'\n"
      ],
      "execution_count": 3,
      "outputs": [
        {
          "output_type": "stream",
          "text": [
            "Mounted at /content/gdrive\n"
          ],
          "name": "stdout"
        }
      ]
    },
    {
      "cell_type": "markdown",
      "metadata": {
        "id": "fXVIydDCxDPS"
      },
      "source": [
        "- **Input dimension:**\n",
        "  - Size of features: 132\n",
        "\n",
        "- **Output dimension: 41**"
      ]
    },
    {
      "cell_type": "code",
      "metadata": {
        "id": "SD0cdQOiA42o"
      },
      "source": [
        "# Hyperparameters\n",
        " \n",
        "batch_size = 20\n",
        "num_iters = 30000\n",
        "hidden_layer1 = 100 # num of hidden nodes\n",
        "hidden_layer2 = 64\n",
        "learning_rate = 0.01\n",
        " \n",
        "# Device\n",
        "device = torch.device(\"cuda:0\" if torch.cuda.is_available() else \"cpu\")"
      ],
      "execution_count": 4,
      "outputs": []
    },
    {
      "cell_type": "code",
      "metadata": {
        "id": "WG5a0eI4bKMe",
        "colab": {
          "base_uri": "https://localhost:8080/",
          "height": 243
        },
        "outputId": "b1f0fc86-09eb-4c67-f462-0004ef8a22ad"
      },
      "source": [
        "# View some example records\n",
        "pd.read_csv(DATA_PATH).sample(5)"
      ],
      "execution_count": 5,
      "outputs": [
        {
          "output_type": "execute_result",
          "data": {
            "text/html": [
              "<div>\n",
              "<style scoped>\n",
              "    .dataframe tbody tr th:only-of-type {\n",
              "        vertical-align: middle;\n",
              "    }\n",
              "\n",
              "    .dataframe tbody tr th {\n",
              "        vertical-align: top;\n",
              "    }\n",
              "\n",
              "    .dataframe thead th {\n",
              "        text-align: right;\n",
              "    }\n",
              "</style>\n",
              "<table border=\"1\" class=\"dataframe\">\n",
              "  <thead>\n",
              "    <tr style=\"text-align: right;\">\n",
              "      <th></th>\n",
              "      <th>Disease</th>\n",
              "      <th>Symptom_1</th>\n",
              "      <th>Symptom_2</th>\n",
              "      <th>Symptom_3</th>\n",
              "      <th>Symptom_4</th>\n",
              "      <th>Symptom_5</th>\n",
              "      <th>Symptom_6</th>\n",
              "      <th>Symptom_7</th>\n",
              "      <th>Symptom_8</th>\n",
              "      <th>Symptom_9</th>\n",
              "      <th>Symptom_10</th>\n",
              "      <th>Symptom_11</th>\n",
              "      <th>Symptom_12</th>\n",
              "      <th>Symptom_13</th>\n",
              "      <th>Symptom_14</th>\n",
              "      <th>Symptom_15</th>\n",
              "      <th>Symptom_16</th>\n",
              "      <th>Symptom_17</th>\n",
              "    </tr>\n",
              "  </thead>\n",
              "  <tbody>\n",
              "    <tr>\n",
              "      <th>1035</th>\n",
              "      <td>Hepatitis C</td>\n",
              "      <td>fatigue</td>\n",
              "      <td>yellowish_skin</td>\n",
              "      <td>nausea</td>\n",
              "      <td>yellowing_of_eyes</td>\n",
              "      <td>family_history</td>\n",
              "      <td>NaN</td>\n",
              "      <td>NaN</td>\n",
              "      <td>NaN</td>\n",
              "      <td>NaN</td>\n",
              "      <td>NaN</td>\n",
              "      <td>NaN</td>\n",
              "      <td>NaN</td>\n",
              "      <td>NaN</td>\n",
              "      <td>NaN</td>\n",
              "      <td>NaN</td>\n",
              "      <td>NaN</td>\n",
              "      <td>NaN</td>\n",
              "    </tr>\n",
              "    <tr>\n",
              "      <th>144</th>\n",
              "      <td>Jaundice</td>\n",
              "      <td>itching</td>\n",
              "      <td>vomiting</td>\n",
              "      <td>weight_loss</td>\n",
              "      <td>high_fever</td>\n",
              "      <td>yellowish_skin</td>\n",
              "      <td>dark_urine</td>\n",
              "      <td>abdominal_pain</td>\n",
              "      <td>NaN</td>\n",
              "      <td>NaN</td>\n",
              "      <td>NaN</td>\n",
              "      <td>NaN</td>\n",
              "      <td>NaN</td>\n",
              "      <td>NaN</td>\n",
              "      <td>NaN</td>\n",
              "      <td>NaN</td>\n",
              "      <td>NaN</td>\n",
              "      <td>NaN</td>\n",
              "    </tr>\n",
              "    <tr>\n",
              "      <th>3047</th>\n",
              "      <td>Paralysis (brain hemorrhage)</td>\n",
              "      <td>vomiting</td>\n",
              "      <td>headache</td>\n",
              "      <td>weakness_of_one_body_side</td>\n",
              "      <td>altered_sensorium</td>\n",
              "      <td>NaN</td>\n",
              "      <td>NaN</td>\n",
              "      <td>NaN</td>\n",
              "      <td>NaN</td>\n",
              "      <td>NaN</td>\n",
              "      <td>NaN</td>\n",
              "      <td>NaN</td>\n",
              "      <td>NaN</td>\n",
              "      <td>NaN</td>\n",
              "      <td>NaN</td>\n",
              "      <td>NaN</td>\n",
              "      <td>NaN</td>\n",
              "      <td>NaN</td>\n",
              "    </tr>\n",
              "    <tr>\n",
              "      <th>1953</th>\n",
              "      <td>Hypothyroidism</td>\n",
              "      <td>weight_gain</td>\n",
              "      <td>cold_hands_and_feets</td>\n",
              "      <td>mood_swings</td>\n",
              "      <td>lethargy</td>\n",
              "      <td>dizziness</td>\n",
              "      <td>puffy_face_and_eyes</td>\n",
              "      <td>enlarged_thyroid</td>\n",
              "      <td>brittle_nails</td>\n",
              "      <td>swollen_extremeties</td>\n",
              "      <td>depression</td>\n",
              "      <td>irritability</td>\n",
              "      <td>abnormal_menstruation</td>\n",
              "      <td>NaN</td>\n",
              "      <td>NaN</td>\n",
              "      <td>NaN</td>\n",
              "      <td>NaN</td>\n",
              "      <td>NaN</td>\n",
              "    </tr>\n",
              "    <tr>\n",
              "      <th>3973</th>\n",
              "      <td>Acne</td>\n",
              "      <td>skin_rash</td>\n",
              "      <td>pus_filled_pimples</td>\n",
              "      <td>blackheads</td>\n",
              "      <td>scurring</td>\n",
              "      <td>NaN</td>\n",
              "      <td>NaN</td>\n",
              "      <td>NaN</td>\n",
              "      <td>NaN</td>\n",
              "      <td>NaN</td>\n",
              "      <td>NaN</td>\n",
              "      <td>NaN</td>\n",
              "      <td>NaN</td>\n",
              "      <td>NaN</td>\n",
              "      <td>NaN</td>\n",
              "      <td>NaN</td>\n",
              "      <td>NaN</td>\n",
              "      <td>NaN</td>\n",
              "    </tr>\n",
              "  </tbody>\n",
              "</table>\n",
              "</div>"
            ],
            "text/plain": [
              "                           Disease     Symptom_1  ... Symptom_16 Symptom_17\n",
              "1035                   Hepatitis C       fatigue  ...        NaN        NaN\n",
              "144                       Jaundice       itching  ...        NaN        NaN\n",
              "3047  Paralysis (brain hemorrhage)      vomiting  ...        NaN        NaN\n",
              "1953                Hypothyroidism   weight_gain  ...        NaN        NaN\n",
              "3973                          Acne     skin_rash  ...        NaN        NaN\n",
              "\n",
              "[5 rows x 18 columns]"
            ]
          },
          "metadata": {
            "tags": []
          },
          "execution_count": 5
        }
      ]
    },
    {
      "cell_type": "markdown",
      "metadata": {
        "id": "kY41pkM-3fwy"
      },
      "source": [
        "**Loading Dataset**"
      ]
    },
    {
      "cell_type": "code",
      "metadata": {
        "id": "pY5h7gotsHRF"
      },
      "source": [
        "class Sequences(Dataset):\n",
        "    def __init__(self, data):\n",
        "\n",
        "        df = data.Symptom_1.map(str)+ ' ' + data.Symptom_2.map(str) + ' ' + data.Symptom_3.map(str) +' ' + data.Symptom_4.map(str)+ ' ' + data.Symptom_5.map(str) + ' ' + data.Symptom_6.map(str)+ ' ' + data.Symptom_7.map(str)+ ' ' + data.Symptom_8.map(str)+ ' ' + data.Symptom_9.map(str)+ ' ' + data.Symptom_10.map(str)+ ' ' + data.Symptom_11.map(str)+ ' ' + data.Symptom_12.map(str)+ ' ' + data.Symptom_13.map(str)+ ' ' + data.Symptom_14.map(str)+ ' ' + data.Symptom_15.map(str)+ ' ' + data.Symptom_16.map(str)+ ' ' + data.Symptom_17.map(str)\n",
        "        \n",
        "        self.vectorizer = CountVectorizer(binary=True)\n",
        "        self.sequences = self.vectorizer.fit_transform(df)\n",
        "\n",
        "        self.label = data.Disease.tolist()\n",
        "        le = preprocessing.LabelEncoder()\n",
        "        le.fit(self.label)\n",
        "        self.labels = le.fit_transform(self.label)\n",
        "        self.label_mapping = dict(zip(le.transform(le.classes_),le.classes_))\n",
        "\n",
        "        self.token2idx = self.vectorizer.vocabulary_\n",
        "        self.idx2token = {idx: token for token, idx in self.token2idx.items()}\n",
        "    \n",
        "    def __getitem__(self, i):\n",
        "        return torch.tensor(self.sequences[i, :].toarray()), self.labels[i]\n",
        "    \n",
        "    def __len__(self):\n",
        "        return self.sequences.shape[0]"
      ],
      "execution_count": 6,
      "outputs": []
    },
    {
      "cell_type": "code",
      "metadata": {
        "id": "vxmg5kkfsXzx",
        "colab": {
          "base_uri": "https://localhost:8080/"
        },
        "outputId": "060960a4-a527-4ce9-b862-087c1e997a14"
      },
      "source": [
        "# Read Dataset from csv file\n",
        "df = pd.read_csv(DATA_PATH, na_filter= False)\n",
        "print(\"Total Data:\",len(df))\n",
        "\n",
        "# Train Test Spliting\n",
        "from sklearn.model_selection import train_test_split\n",
        "train, test = train_test_split(df, test_size=0.10, shuffle=True)\n",
        "\n",
        "# Preproccessing of Dataset\n",
        "train_data = Sequences(train)\n",
        "test_data = Sequences(test)\n",
        "#train_loader = DataLoader(train_data, batch_size=batch_size)\n",
        "#test_loader = DataLoader(test_data, batch_size=batch_size)\n",
        "train_loader = torch.utils.data.DataLoader(dataset=train_data, batch_size=batch_size, shuffle=True)\n",
        "test_loader = torch.utils.data.DataLoader(dataset=test_data, batch_size=batch_size, shuffle=True)\n",
        "\n",
        "'''\n",
        "MAKING DATASET ITERABLE\n",
        "'''\n",
        "num_epochs = num_iters / (len(train_data) / batch_size)\n",
        "num_epochs = int(num_epochs)\n",
        "\n",
        "print(\"Train Data: \",len(train_data))\n",
        "print(\"Test Data: \",len(test_data))\n"
      ],
      "execution_count": 7,
      "outputs": [
        {
          "output_type": "stream",
          "text": [
            "Total Data: 4920\n",
            "Train Data:  4428\n",
            "Test Data:  492\n"
          ],
          "name": "stdout"
        }
      ]
    },
    {
      "cell_type": "code",
      "metadata": {
        "colab": {
          "base_uri": "https://localhost:8080/"
        },
        "id": "xN49LtH4Dl7C",
        "outputId": "dc0da584-167b-477c-913c-3c4dc923ff8f"
      },
      "source": [
        "# Disease Label Dictionary\n",
        "print(\"Disease Dictionary: \")\n",
        "print(train_data.label_mapping)\n",
        "print(train_data.labels)\n"
      ],
      "execution_count": 8,
      "outputs": [
        {
          "output_type": "stream",
          "text": [
            "Disease Dictionary: \n",
            "{0: '(vertigo) Paroymsal  Positional Vertigo', 1: 'AIDS', 2: 'Acne', 3: 'Alcoholic hepatitis', 4: 'Allergy', 5: 'Arthritis', 6: 'Bronchial Asthma', 7: 'Cervical spondylosis', 8: 'Chicken pox', 9: 'Chronic cholestasis', 10: 'Common Cold', 11: 'Dengue', 12: 'Diabetes ', 13: 'Dimorphic hemmorhoids(piles)', 14: 'Drug Reaction', 15: 'Fungal infection', 16: 'GERD', 17: 'Gastroenteritis', 18: 'Heart attack', 19: 'Hepatitis B', 20: 'Hepatitis C', 21: 'Hepatitis D', 22: 'Hepatitis E', 23: 'Hypertension ', 24: 'Hyperthyroidism', 25: 'Hypoglycemia', 26: 'Hypothyroidism', 27: 'Impetigo', 28: 'Jaundice', 29: 'Malaria', 30: 'Migraine', 31: 'Osteoarthristis', 32: 'Paralysis (brain hemorrhage)', 33: 'Peptic ulcer diseae', 34: 'Pneumonia', 35: 'Psoriasis', 36: 'Tuberculosis', 37: 'Typhoid', 38: 'Urinary tract infection', 39: 'Varicose veins', 40: 'hepatitis A'}\n",
            "[ 4 11 36 ... 12 15 33]\n"
          ],
          "name": "stdout"
        }
      ]
    },
    {
      "cell_type": "markdown",
      "metadata": {
        "id": "QEKfgj-uUZM4"
      },
      "source": [
        "**Dataset Analysis**"
      ]
    },
    {
      "cell_type": "code",
      "metadata": {
        "colab": {
          "base_uri": "https://localhost:8080/"
        },
        "id": "P4zlgdy7UiWO",
        "outputId": "129ed725-e494-42d6-9638-1cc9d8614d0f"
      },
      "source": [
        "print(\"Number of Features in a Input Vector: \",len(train_data.token2idx))\n",
        "unique_words = set(train_data.labels) \n",
        "print(\"Number of Classes(Disease): \",len(unique_words))\n",
        "print(\"Number of Vocabulary: \",len(train_data.token2idx))\n",
        "print(\"Number of Train Samples: \",len(train_data))\n",
        "print(\"Number of Test Samples: \",len(test_data),\"\\n\")\n",
        "\n",
        "# Printing name of the each classes and their number of Train Samples\n",
        "(unique, counts) = np.unique(train_data.label, return_counts=True)\n",
        "frequencies = np.array((unique, counts)).T\n",
        "cls_train_sam = DataFrame(frequencies,columns=['Classes','Number of Train Samples'])\n",
        "print(\"Each Class with their number of Train Samples taken for train this model:\")\n",
        "print(cls_train_sam)\n",
        "\n",
        "# Vocabulary List\n",
        "print(\"\\nFeatures Vocabulary list and their index: \\n\",sorted(train_data.idx2token.items()))\n"
      ],
      "execution_count": null,
      "outputs": [
        {
          "output_type": "stream",
          "text": [
            "Number of Features in a Input Vector:  132\n",
            "Number of Classes(Disease):  41\n",
            "Number of Vocabulary:  132\n",
            "Number of Train Samples:  4428\n",
            "Number of Test Samples:  492 \n",
            "\n",
            "Each Class with their number of Train Samples taken for train this model:\n",
            "                                    Classes Number of Train Samples\n",
            "0   (vertigo) Paroymsal  Positional Vertigo                     107\n",
            "1                                      AIDS                     109\n",
            "2                                      Acne                     108\n",
            "3                       Alcoholic hepatitis                     107\n",
            "4                                   Allergy                     107\n",
            "5                                 Arthritis                     106\n",
            "6                          Bronchial Asthma                     112\n",
            "7                      Cervical spondylosis                     109\n",
            "8                               Chicken pox                     102\n",
            "9                       Chronic cholestasis                     107\n",
            "10                              Common Cold                     106\n",
            "11                                   Dengue                     106\n",
            "12                                Diabetes                      107\n",
            "13             Dimorphic hemmorhoids(piles)                      99\n",
            "14                            Drug Reaction                     101\n",
            "15                         Fungal infection                     110\n",
            "16                                     GERD                     107\n",
            "17                          Gastroenteritis                     105\n",
            "18                             Heart attack                     111\n",
            "19                              Hepatitis B                     110\n",
            "20                              Hepatitis C                     116\n",
            "21                              Hepatitis D                     108\n",
            "22                              Hepatitis E                     110\n",
            "23                            Hypertension                      103\n",
            "24                          Hyperthyroidism                     105\n",
            "25                             Hypoglycemia                     111\n",
            "26                           Hypothyroidism                     108\n",
            "27                                 Impetigo                     108\n",
            "28                                 Jaundice                     109\n",
            "29                                  Malaria                     106\n",
            "30                                 Migraine                     110\n",
            "31                          Osteoarthristis                     106\n",
            "32             Paralysis (brain hemorrhage)                     112\n",
            "33                      Peptic ulcer diseae                     112\n",
            "34                                Pneumonia                     110\n",
            "35                                Psoriasis                     104\n",
            "36                             Tuberculosis                     111\n",
            "37                                  Typhoid                     106\n",
            "38                  Urinary tract infection                     113\n",
            "39                           Varicose veins                     110\n",
            "40                              hepatitis A                     114\n",
            "\n",
            "Features Vocabulary list and their index: \n",
            " [(0, 'abdominal_pain'), (1, 'abnormal_menstruation'), (2, 'acidity'), (3, 'acute_liver_failure'), (4, 'altered_sensorium'), (5, 'anxiety'), (6, 'back_pain'), (7, 'belly_pain'), (8, 'blackheads'), (9, 'bladder_discomfort'), (10, 'blister'), (11, 'blood_in_sputum'), (12, 'bloody_stool'), (13, 'blurred_and_distorted_vision'), (14, 'breathlessness'), (15, 'brittle_nails'), (16, 'bruising'), (17, 'burning_micturition'), (18, 'chest_pain'), (19, 'chills'), (20, 'cold_hands_and_feets'), (21, 'coma'), (22, 'congestion'), (23, 'constipation'), (24, 'continuous_feel_of_urine'), (25, 'continuous_sneezing'), (26, 'cough'), (27, 'cramps'), (28, 'dark_urine'), (29, 'dehydration'), (30, 'depression'), (31, 'diarrhoea'), (32, 'dischromic_patches'), (33, 'distention_of_abdomen'), (34, 'dizziness'), (35, 'drying_and_tingling_lips'), (36, 'enlarged_thyroid'), (37, 'excessive_hunger'), (38, 'extra_marital_contacts'), (39, 'family_history'), (40, 'fast_heart_rate'), (41, 'fatigue'), (42, 'fluid_overload'), (43, 'foul_smell_of_urine'), (44, 'headache'), (45, 'high_fever'), (46, 'hip_joint_pain'), (47, 'history_of_alcohol_consumption'), (48, 'increased_appetite'), (49, 'indigestion'), (50, 'inflammatory_nails'), (51, 'internal_itching'), (52, 'irregular_sugar_level'), (53, 'irritability'), (54, 'irritation_in_anus'), (55, 'itching'), (56, 'joint_pain'), (57, 'knee_pain'), (58, 'lack_of_concentration'), (59, 'lethargy'), (60, 'loss_of_appetite'), (61, 'loss_of_balance'), (62, 'loss_of_smell'), (63, 'malaise'), (64, 'mild_fever'), (65, 'mood_swings'), (66, 'movement_stiffness'), (67, 'mucoid_sputum'), (68, 'muscle_pain'), (69, 'muscle_wasting'), (70, 'muscle_weakness'), (71, 'nausea'), (72, 'neck_pain'), (73, 'nodal_skin_eruptions'), (74, 'obesity'), (75, 'pain_behind_the_eyes'), (76, 'pain_during_bowel_movements'), (77, 'pain_in_anal_region'), (78, 'painful_walking'), (79, 'palpitations'), (80, 'passage_of_gases'), (81, 'patches_in_throat'), (82, 'phlegm'), (83, 'polyuria'), (84, 'prominent_veins_on_calf'), (85, 'puffy_face_and_eyes'), (86, 'pus_filled_pimples'), (87, 'receiving_blood_transfusion'), (88, 'receiving_unsterile_injections'), (89, 'red_sore_around_nose'), (90, 'red_spots_over_body'), (91, 'redness_of_eyes'), (92, 'restlessness'), (93, 'runny_nose'), (94, 'rusty_sputum'), (95, 'scurring'), (96, 'shivering'), (97, 'silver_like_dusting'), (98, 'sinus_pressure'), (99, 'skin_peeling'), (100, 'skin_rash'), (101, 'slurred_speech'), (102, 'small_dents_in_nails'), (103, 'spinning_movements'), (104, 'spotting_urination'), (105, 'stiff_neck'), (106, 'stomach_bleeding'), (107, 'stomach_pain'), (108, 'sunken_eyes'), (109, 'sweating'), (110, 'swelled_lymph_nodes'), (111, 'swelling_joints'), (112, 'swelling_of_stomach'), (113, 'swollen_blood_vessels'), (114, 'swollen_extremeties'), (115, 'swollen_legs'), (116, 'throat_irritation'), (117, 'toxic_look_'), (118, 'typhos'), (119, 'ulcers_on_tongue'), (120, 'unsteadiness'), (121, 'visual_disturbances'), (122, 'vomiting'), (123, 'watering_from_eyes'), (124, 'weakness_in_limbs'), (125, 'weakness_of_one_body_side'), (126, 'weight_gain'), (127, 'weight_loss'), (128, 'yellow_crust_ooze'), (129, 'yellow_urine'), (130, 'yellowing_of_eyes'), (131, 'yellowish_skin')]\n"
          ],
          "name": "stdout"
        }
      ]
    },
    {
      "cell_type": "markdown",
      "metadata": {
        "id": "vZ5ekMBEun9R"
      },
      "source": [
        "**Sample Input Vector**"
      ]
    },
    {
      "cell_type": "code",
      "metadata": {
        "colab": {
          "base_uri": "https://localhost:8080/"
        },
        "id": "d_epE8hNurqJ",
        "outputId": "39f5674a-bc50-456a-9410-77631e924b38"
      },
      "source": [
        "# Sample Input Vector\n",
        "def sampleData(idx):\n",
        "  print(\"\\nSample Input Vector: \")\n",
        "  print(train_data[idx])\n",
        "  sorted_voc = sorted(train_data.idx2token.items())\n",
        "  print(\"\\nIn the above input, these following index values are One: \")\n",
        "  print(\"Index\\t\\tIndex Meaning\\n*****\\t\\t********************\")\n",
        "  for i in range(len(train_data[idx][0][0])):\n",
        "    if(train_data[idx][0][0][i] >= 1):\n",
        "      print(i,\"\\t\\t\",sorted_voc[i][1])\n",
        "  print(\"\\nLabel: \", train_data.label_mapping[train_data[idx][1]])\n",
        "\n",
        "sampleData(0)"
      ],
      "execution_count": null,
      "outputs": [
        {
          "output_type": "stream",
          "text": [
            "\n",
            "Sample Input Vector: \n",
            "(tensor([[0, 0, 0, 0, 0, 0, 0, 0, 0, 0, 0, 0, 0, 0, 0, 0, 0, 0, 0, 0, 0, 0, 0, 0,\n",
            "         0, 0, 0, 0, 0, 0, 0, 0, 0, 0, 0, 0, 0, 0, 0, 1, 0, 1, 0, 0, 0, 0, 0, 0,\n",
            "         0, 0, 0, 0, 0, 0, 0, 0, 0, 0, 0, 0, 1, 0, 0, 0, 0, 0, 0, 0, 0, 0, 0, 1,\n",
            "         0, 0, 0, 0, 0, 0, 0, 0, 0, 0, 0, 0, 0, 0, 0, 0, 0, 0, 0, 0, 0, 0, 0, 0,\n",
            "         0, 0, 0, 0, 0, 0, 0, 0, 0, 0, 0, 0, 0, 0, 0, 0, 0, 0, 0, 0, 0, 0, 0, 0,\n",
            "         0, 0, 0, 0, 0, 0, 0, 0, 0, 0, 1, 1]]), 20)\n",
            "\n",
            "In the above input, these following index values are One: \n",
            "Index\t\tIndex Meaning\n",
            "*****\t\t********************\n",
            "39 \t\t family_history\n",
            "41 \t\t fatigue\n",
            "60 \t\t loss_of_appetite\n",
            "71 \t\t nausea\n",
            "130 \t\t yellowing_of_eyes\n",
            "131 \t\t yellowish_skin\n",
            "\n",
            "Label:  Hepatitis C\n"
          ],
          "name": "stdout"
        }
      ]
    },
    {
      "cell_type": "markdown",
      "metadata": {
        "id": "zD-6EBjwAiNF"
      },
      "source": [
        "###Step #1 : Neural Network Model Design\n"
      ]
    },
    {
      "cell_type": "code",
      "metadata": {
        "id": "onjnJ4DSwKKM"
      },
      "source": [
        "class BagOfWordsClassifier(nn.Module):\n",
        "    def __init__(self, vocab_size, hidden1, hidden2):\n",
        "        super().__init__()\n",
        "        ### 1st hidden layer: vocab_size --> 128\n",
        "        self.linear_1 = nn.Linear(vocab_size, hidden1)\n",
        "        ### Non-linearity in 1st hidden layer\n",
        "        self.relu_1 = nn.ReLU()\n",
        "        \n",
        "        ### 2nd hidden layer: 128 --> 64\n",
        "        self.linear_2 = nn.Linear(hidden1, hidden2)\n",
        "        ### Non-linearity in 2nd hidden layer\n",
        "        self.relu_2 = nn.ReLU()\n",
        "        \n",
        "        ### Output layer: 64 --> 1\n",
        "        self.linear_out = nn.Linear(hidden2, len(train_data.label_mapping))\n",
        "        \n",
        "    def forward(self, inputs):\n",
        "        ### 1st hidden layer\n",
        "        out = self.linear_1(inputs)\n",
        "        ### Non-linearity in 1st hidden layer\n",
        "        out = self.relu_1(out)\n",
        "        \n",
        "        ### 2nd hidden layer\n",
        "        out = self.linear_2(out)\n",
        "        ### Non-linearity in 2nd hidden layer\n",
        "        out = self.relu_2(out)\n",
        "        \n",
        "        # Linear layer (output)\n",
        "        logits  = self.linear_out(out)\n",
        "        \n",
        "        return logits"
      ],
      "execution_count": null,
      "outputs": []
    },
    {
      "cell_type": "code",
      "metadata": {
        "id": "tNF7hhnBwezw",
        "colab": {
          "base_uri": "https://localhost:8080/"
        },
        "outputId": "f33d7892-c243-4764-f176-8f16f78161f8"
      },
      "source": [
        "model = BagOfWordsClassifier(len(train_data.token2idx), hidden_layer1, hidden_layer2)\n",
        "model.to(device)"
      ],
      "execution_count": null,
      "outputs": [
        {
          "output_type": "execute_result",
          "data": {
            "text/plain": [
              "BagOfWordsClassifier(\n",
              "  (linear_1): Linear(in_features=132, out_features=100, bias=True)\n",
              "  (relu_1): ReLU()\n",
              "  (linear_2): Linear(in_features=100, out_features=64, bias=True)\n",
              "  (relu_2): ReLU()\n",
              "  (linear_out): Linear(in_features=64, out_features=41, bias=True)\n",
              ")"
            ]
          },
          "metadata": {
            "tags": []
          },
          "execution_count": 106
        }
      ]
    },
    {
      "cell_type": "markdown",
      "metadata": {
        "id": "pdrDJPOKzdSp"
      },
      "source": [
        "###Step #2 : Constructing loss and optimizer (select from PyTorch API)\n"
      ]
    },
    {
      "cell_type": "code",
      "metadata": {
        "id": "GM2q_XGHzcta"
      },
      "source": [
        "# INSTANTIATE OPTIMIZER CLASS\n",
        "criterion = nn.CrossEntropyLoss()\n",
        "optimizer = torch.optim.SGD(model.parameters(), lr=learning_rate)\n",
        "#optimizer = optim.Adam(model.parameters(), lr=learning_rate)"
      ],
      "execution_count": null,
      "outputs": []
    },
    {
      "cell_type": "code",
      "metadata": {
        "id": "vbM1kQBwma46"
      },
      "source": [
        "path = \"../content/gdrive/My Drive/Data/saved_model/Disease_prediction/\"\n",
        "\n",
        "# Create Directory\n",
        "saveModel = path + 'i' + str(num_iters) +'_b' + str(batch_size) +'_L' + str(learning_rate)\n",
        "check_dir = os.listdir(path)\n",
        "if ('i' + str(num_iters) +'_b' + str(batch_size) +'_L' + str(learning_rate) not in check_dir):\n",
        "  os.mkdir(saveModel)\n",
        "\n",
        "# Writing number of input layer and their specification of this model\n",
        "layer_specification_path = path + 'i'+ str(num_iters) + '_b' + str(batch_size) +'_L' + str(learning_rate) +'/layer_specification.txt'\n",
        "model_text = model.to(device)\n",
        "f = open(layer_specification_path, \"w\")\n",
        "f.write(str(model_text))\n",
        "f.close()\n",
        "\n",
        "# Save Model\n",
        "def saveModel(batch,iteration,learningRate):\n",
        "  save_model = True\n",
        "  if save_model is True:\n",
        "      # Saves only parameters\n",
        "      # wights & biases\n",
        "      torch.save(model.state_dict(), path + 'i' + str(num_iters) + '_b' + str(batch_size) +'_L' + str(learning_rate) + '/logistic_i' + str(iteration) +'_b' + str(batch_size) +'_L' + str(learning_rate) +'.pkl') "
      ],
      "execution_count": null,
      "outputs": []
    },
    {
      "cell_type": "markdown",
      "metadata": {
        "id": "PvD4MeUNuA2m"
      },
      "source": [
        "##Step #3: Model Training"
      ]
    },
    {
      "cell_type": "code",
      "metadata": {
        "id": "-JIkDlaCib38"
      },
      "source": [
        "iteration_loss = []\n",
        "iter = 1"
      ],
      "execution_count": null,
      "outputs": []
    },
    {
      "cell_type": "code",
      "metadata": {
        "colab": {
          "base_uri": "https://localhost:8080/"
        },
        "id": "Q3Jb4vhRZI9p",
        "outputId": "62b959c4-1d98-4381-8e76-ef36ceaabda3"
      },
      "source": [
        "'''\n",
        "TRAIN THE MODEL\n",
        "'''\n",
        "loss_path = path + 'i'+ str(num_iters) + '_b' + str(batch_size) +'_L' + str(learning_rate) +'/accuracy_loss.txt'\n",
        "f = open(loss_path, \"a\")\n",
        "f.write(\"Iteration\\tLoss\\tAccuracy\\n\")\n",
        "f.close()\n",
        " \n",
        "for epoch in range(num_epochs):\n",
        "    for i, (input, labels) in enumerate(train_loader):\n",
        "        input = input.view(-1, 132).float().to(device)\n",
        "        labels = labels.to(device)\n",
        "\n",
        "        # Clear gradients w.r.t. parameters\n",
        "        optimizer.zero_grad()\n",
        " \n",
        "        # Forward pass to get output/logits\n",
        "        outputs = model(input)\n",
        "        #outputs = torch.argmax(outputs, dim=1)\n",
        "        #print(outputs)\n",
        "        #print(labels)\n",
        "        # Calculate Loss: softmax --> cross entropy loss\n",
        "        loss = criterion(outputs, labels)\n",
        " \n",
        "        # Getting gradients w.r.t. parameters\n",
        "        loss.backward()\n",
        "        # Updating parameters\n",
        "        optimizer.step()\n",
        "        \n",
        "        print(\"\\rIteration:{}\".format(iter), end=\"\")\n",
        "        iter += 1\n",
        "        if iter % 1000 == 0:\n",
        "            saveModel(batch_size, iter,learning_rate)\n",
        "        if iter % 500 == 0:\n",
        "            # Calculate Accuracy         \n",
        "            correct = 0\n",
        "            total = 0\n",
        "            # Iterate through test dataset\n",
        "            for input, labels in test_loader: \n",
        "                # Forward pass only to get logits/output\n",
        "                input = input.view(-1, 132).float().to(device)\n",
        "                labels = labels.to(device)\n",
        "                outputs = model(input)\n",
        " \n",
        "                # Get predictions from the maximum value\n",
        "                _, predicted = torch.max(outputs, 1)\n",
        " \n",
        "                # Total number of labels\n",
        "                total += labels.size(0)\n",
        " \n",
        " \n",
        "                # Total correct predictions\n",
        "                if torch.cuda.is_available():\n",
        "                    correct += (predicted.cpu() == labels.cpu()).sum() \n",
        "                else:\n",
        "                    correct += (predicted == labels).sum()\n",
        " \n",
        "            accuracy = 100 * correct.item() / total\n",
        " \n",
        "            # Print Loss\n",
        "            iteration_loss.append(loss.item())\n",
        "            print('\\nIteration: {}. Loss: {}. Accuracy: {}'.format(iter, loss.item(), accuracy))\n",
        "            f = open(loss_path, \"a\")\n",
        "            f.write(str(iter) + \"\\t\" + str(loss.item()) + \"\\t\"+ str(accuracy) +\"\\n\")\n",
        "            f.close()"
      ],
      "execution_count": null,
      "outputs": [
        {
          "output_type": "stream",
          "text": [
            "Iteration:499\n",
            "Iteration: 500. Loss: 3.6603217124938965. Accuracy: 14.024390243902438\n",
            "Iteration:999\n",
            "Iteration: 1000. Loss: 3.5937187671661377. Accuracy: 30.08130081300813\n",
            "Iteration:1499\n",
            "Iteration: 1500. Loss: 3.3157451152801514. Accuracy: 38.61788617886179\n",
            "Iteration:1999\n",
            "Iteration: 2000. Loss: 2.9130001068115234. Accuracy: 37.80487804878049\n",
            "Iteration:2499\n",
            "Iteration: 2500. Loss: 2.0484917163848877. Accuracy: 63.00813008130081\n",
            "Iteration:2999\n",
            "Iteration: 3000. Loss: 1.6701288223266602. Accuracy: 88.82113821138212\n",
            "Iteration:3499\n",
            "Iteration: 3500. Loss: 0.9356218576431274. Accuracy: 100.0\n",
            "Iteration:3999\n",
            "Iteration: 4000. Loss: 0.4839943051338196. Accuracy: 99.79674796747967\n",
            "Iteration:4499\n",
            "Iteration: 4500. Loss: 0.26158270239830017. Accuracy: 100.0\n",
            "Iteration:4999\n",
            "Iteration: 5000. Loss: 0.15219774842262268. Accuracy: 100.0\n",
            "Iteration:5499\n",
            "Iteration: 5500. Loss: 0.11389371007680893. Accuracy: 100.0\n",
            "Iteration:5999\n",
            "Iteration: 6000. Loss: 0.056225068867206573. Accuracy: 100.0\n",
            "Iteration:6499\n",
            "Iteration: 6500. Loss: 0.06252476572990417. Accuracy: 100.0\n",
            "Iteration:6999\n",
            "Iteration: 7000. Loss: 0.061545826494693756. Accuracy: 100.0\n",
            "Iteration:7499\n",
            "Iteration: 7500. Loss: 0.023853857070207596. Accuracy: 100.0\n",
            "Iteration:7999\n",
            "Iteration: 8000. Loss: 0.015490430407226086. Accuracy: 100.0\n",
            "Iteration:8499\n",
            "Iteration: 8500. Loss: 0.032239723950624466. Accuracy: 100.0\n",
            "Iteration:8999\n",
            "Iteration: 9000. Loss: 0.025835376232862473. Accuracy: 100.0\n",
            "Iteration:9499\n",
            "Iteration: 9500. Loss: 0.02619210258126259. Accuracy: 100.0\n",
            "Iteration:9999\n",
            "Iteration: 10000. Loss: 0.02075781300663948. Accuracy: 100.0\n",
            "Iteration:10499\n",
            "Iteration: 10500. Loss: 0.018518943339586258. Accuracy: 100.0\n",
            "Iteration:10999\n",
            "Iteration: 11000. Loss: 0.011131225153803825. Accuracy: 100.0\n",
            "Iteration:11499\n",
            "Iteration: 11500. Loss: 0.020588640123605728. Accuracy: 100.0\n",
            "Iteration:11999\n",
            "Iteration: 12000. Loss: 0.0081477714702487. Accuracy: 100.0\n",
            "Iteration:12499\n",
            "Iteration: 12500. Loss: 0.006028329022228718. Accuracy: 100.0\n",
            "Iteration:12999\n",
            "Iteration: 13000. Loss: 0.011922657489776611. Accuracy: 100.0\n",
            "Iteration:13499\n",
            "Iteration: 13500. Loss: 0.01078159548342228. Accuracy: 100.0\n",
            "Iteration:13999\n",
            "Iteration: 14000. Loss: 0.0065200962126255035. Accuracy: 100.0\n",
            "Iteration:14499\n",
            "Iteration: 14500. Loss: 0.009186040610074997. Accuracy: 100.0\n",
            "Iteration:14999\n",
            "Iteration: 15000. Loss: 0.004342779517173767. Accuracy: 100.0\n",
            "Iteration:15499\n",
            "Iteration: 15500. Loss: 0.010518299415707588. Accuracy: 100.0\n",
            "Iteration:15999\n",
            "Iteration: 16000. Loss: 0.009607570245862007. Accuracy: 100.0\n",
            "Iteration:16499\n",
            "Iteration: 16500. Loss: 0.010466600768268108. Accuracy: 100.0\n",
            "Iteration:16999\n",
            "Iteration: 17000. Loss: 0.008220125921070576. Accuracy: 100.0\n",
            "Iteration:17499\n",
            "Iteration: 17500. Loss: 0.00713436771184206. Accuracy: 100.0\n",
            "Iteration:17999\n",
            "Iteration: 18000. Loss: 0.005366389639675617. Accuracy: 100.0\n",
            "Iteration:18499\n",
            "Iteration: 18500. Loss: 0.018349573016166687. Accuracy: 100.0\n",
            "Iteration:18999\n",
            "Iteration: 19000. Loss: 0.006740304175764322. Accuracy: 100.0\n",
            "Iteration:19499\n",
            "Iteration: 19500. Loss: 0.006298243999481201. Accuracy: 100.0\n",
            "Iteration:19980"
          ],
          "name": "stdout"
        }
      ]
    },
    {
      "cell_type": "markdown",
      "metadata": {
        "id": "ozaCVVkqqEjn"
      },
      "source": [
        "### Load Model and iteration Loss"
      ]
    },
    {
      "cell_type": "code",
      "metadata": {
        "id": "7QH6KiJhqFhL"
      },
      "source": [
        "root_path = '/content/gdrive/My Drive/Data/saved_model/Disease_prediction/i20000_b20_L0.01/'\n",
        "\n",
        "# read train.txt file line by line\n",
        "with open(root_path + 'accuracy_loss.txt', \"r\") as loss:\n",
        "    FileasList = loss.readlines()\n",
        "\n",
        "acc_loss = []\n",
        "iteration_loss = []\n",
        "for i in range(len(FileasList)):\n",
        "  if (i == 0):\n",
        "    continue\n",
        "  acc_loss.append(FileasList[i].split())\n",
        "  iteration_loss.append(float(acc_loss[i-1][1]))\n",
        "\n",
        "\n",
        "load_model = True\n",
        "\n",
        "if load_model is True:\n",
        "    model.load_state_dict(torch.load(root_path + 'logistic_i15000_b20_L0.01.pkl'))"
      ],
      "execution_count": null,
      "outputs": []
    },
    {
      "cell_type": "markdown",
      "metadata": {
        "id": "CB4tbdPiAQJe"
      },
      "source": [
        "**Loss Graph:**"
      ]
    },
    {
      "cell_type": "code",
      "metadata": {
        "id": "Awv1qT7qVkSX",
        "colab": {
          "base_uri": "https://localhost:8080/",
          "height": 318
        },
        "outputId": "246d1748-e5b9-48cc-8b2f-146fd62a982b"
      },
      "source": [
        "import matplotlib\n",
        "import matplotlib.pyplot as plt\n",
        "\n",
        "print (iteration_loss)\n",
        "plt.plot(iteration_loss)\n",
        "plt.ylabel('Cross Entropy Loss')\n",
        "plt.xlabel('Iteration (in every 500)')\n",
        "plt.show()"
      ],
      "execution_count": null,
      "outputs": [
        {
          "output_type": "stream",
          "text": [
            "[3.6603217124938965, 3.5937187671661377, 3.3157451152801514, 2.9130001068115234, 2.0484917163848877, 1.6701288223266602, 0.9356218576431274, 0.4839943051338196, 0.26158270239830017, 0.15219774842262268, 0.11389371007680893, 0.056225068867206573, 0.06252476572990417, 0.061545826494693756, 0.023853857070207596, 0.015490430407226086, 0.032239723950624466, 0.025835376232862473, 0.02619210258126259, 0.02075781300663948, 0.018518943339586258, 0.011131225153803825, 0.020588640123605728, 0.0081477714702487, 0.006028329022228718, 0.011922657489776611, 0.01078159548342228, 0.0065200962126255035, 0.009186040610074997, 0.004342779517173767, 0.010518299415707588, 0.009607570245862007, 0.010466600768268108, 0.008220125921070576, 0.00713436771184206, 0.005366389639675617, 0.018349573016166687, 0.006740304175764322, 0.006298243999481201]\n"
          ],
          "name": "stdout"
        },
        {
          "output_type": "display_data",
          "data": {
            "image/png": "[encoded data removed]",
            "text/plain": [
              "<Figure size 432x288 with 1 Axes>"
            ]
          },
          "metadata": {
            "tags": [],
            "needs_background": "light"
          }
        }
      ]
    },
    {
      "cell_type": "markdown",
      "metadata": {
        "id": "eSK-5XMEAKU2"
      },
      "source": [
        "**Disease Predict**"
      ]
    },
    {
      "cell_type": "code",
      "metadata": {
        "id": "If94hZmkyPv3"
      },
      "source": [
        "def predict_sentiment(text):\n",
        "  test_vector = torch.LongTensor(train_data.vectorizer.transform([text]).toarray())\n",
        "  output = model(test_vector.to(device).float())\n",
        "  prediction = torch.argmax(output, dim=1)\n",
        "  output = train_data.label_mapping[prediction.item()]\n",
        "  return output"
      ],
      "execution_count": null,
      "outputs": []
    },
    {
      "cell_type": "code",
      "metadata": {
        "id": "D6WguymwyRI4",
        "colab": {
          "base_uri": "https://localhost:8080/"
        },
        "outputId": "7570ea21-3e1a-4220-83e5-0546f4de02b5"
      },
      "source": [
        "test_text = \"vomiting  weight_loss high_fever yellowish_skin dark_urine abdominal_pain\"\n",
        "print(predict_sentiment(test_text))\n",
        "test_text = \"itching skin_rash fatigue headache red_spots_over_body high_fever loss_of_appetite\"\n",
        "print(predict_sentiment(test_text))\n",
        "test_text = \"sweating vomiting  breathlessness\"\n",
        "print(predict_sentiment(test_text))"
      ],
      "execution_count": null,
      "outputs": [
        {
          "output_type": "stream",
          "text": [
            "Jaundice\n",
            "Chicken pox\n",
            "Heart attack\n"
          ],
          "name": "stdout"
        }
      ]
    }
  ]
}